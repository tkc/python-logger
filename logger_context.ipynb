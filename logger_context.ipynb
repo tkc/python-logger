{
 "cells": [
  {
   "cell_type": "markdown",
   "metadata": {},
   "source": [
    "## Logging クックブック\n",
    "\n",
    "https://docs.python.org/ja/3/howto/logging-cookbook.html\n"
   ]
  },
  {
   "cell_type": "code",
   "execution_count": 6,
   "metadata": {},
   "outputs": [
    {
     "name": "stderr",
     "output_type": "stream",
     "text": [
      "--- Logging error ---\n",
      "Traceback (most recent call last):\n",
      "  File \"/Users/takeshiiijima/opt/anaconda3/lib/python3.9/logging/__init__.py\", line 434, in format\n",
      "    return self._format(record)\n",
      "  File \"/Users/takeshiiijima/opt/anaconda3/lib/python3.9/logging/__init__.py\", line 430, in _format\n",
      "    return self._fmt % record.__dict__\n",
      "KeyError: 'user'\n",
      "\n",
      "During handling of the above exception, another exception occurred:\n",
      "\n",
      "Traceback (most recent call last):\n",
      "  File \"/Users/takeshiiijima/opt/anaconda3/lib/python3.9/logging/__init__.py\", line 1083, in emit\n",
      "    msg = self.format(record)\n",
      "  File \"/Users/takeshiiijima/opt/anaconda3/lib/python3.9/logging/__init__.py\", line 927, in format\n",
      "    return fmt.format(record)\n",
      "  File \"/Users/takeshiiijima/opt/anaconda3/lib/python3.9/logging/__init__.py\", line 666, in format\n",
      "    s = self.formatMessage(record)\n",
      "  File \"/Users/takeshiiijima/opt/anaconda3/lib/python3.9/logging/__init__.py\", line 635, in formatMessage\n",
      "    return self._style.format(record)\n",
      "  File \"/Users/takeshiiijima/opt/anaconda3/lib/python3.9/logging/__init__.py\", line 436, in format\n",
      "    raise ValueError('Formatting field not found in record: %s' % e)\n",
      "ValueError: Formatting field not found in record: 'user'\n",
      "Call stack:\n",
      "  File \"/Users/takeshiiijima/opt/anaconda3/lib/python3.9/runpy.py\", line 197, in _run_module_as_main\n",
      "    return _run_code(code, main_globals, None,\n",
      "  File \"/Users/takeshiiijima/opt/anaconda3/lib/python3.9/runpy.py\", line 87, in _run_code\n",
      "    exec(code, run_globals)\n",
      "  File \"/Users/takeshiiijima/opt/anaconda3/lib/python3.9/site-packages/ipykernel_launcher.py\", line 16, in <module>\n",
      "    app.launch_new_instance()\n",
      "  File \"/Users/takeshiiijima/opt/anaconda3/lib/python3.9/site-packages/traitlets/config/application.py\", line 846, in launch_instance\n",
      "    app.start()\n",
      "  File \"/Users/takeshiiijima/opt/anaconda3/lib/python3.9/site-packages/ipykernel/kernelapp.py\", line 677, in start\n",
      "    self.io_loop.start()\n",
      "  File \"/Users/takeshiiijima/opt/anaconda3/lib/python3.9/site-packages/tornado/platform/asyncio.py\", line 199, in start\n",
      "    self.asyncio_loop.run_forever()\n",
      "  File \"/Users/takeshiiijima/opt/anaconda3/lib/python3.9/asyncio/base_events.py\", line 596, in run_forever\n",
      "    self._run_once()\n",
      "  File \"/Users/takeshiiijima/opt/anaconda3/lib/python3.9/asyncio/base_events.py\", line 1890, in _run_once\n",
      "    handle._run()\n",
      "  File \"/Users/takeshiiijima/opt/anaconda3/lib/python3.9/asyncio/events.py\", line 80, in _run\n",
      "    self._context.run(self._callback, *self._args)\n",
      "  File \"/Users/takeshiiijima/opt/anaconda3/lib/python3.9/site-packages/ipykernel/kernelbase.py\", line 457, in dispatch_queue\n",
      "    await self.process_one()\n",
      "  File \"/Users/takeshiiijima/opt/anaconda3/lib/python3.9/site-packages/ipykernel/kernelbase.py\", line 446, in process_one\n",
      "    await dispatch(*args)\n",
      "  File \"/Users/takeshiiijima/opt/anaconda3/lib/python3.9/site-packages/ipykernel/kernelbase.py\", line 353, in dispatch_shell\n",
      "    await result\n",
      "  File \"/Users/takeshiiijima/opt/anaconda3/lib/python3.9/site-packages/ipykernel/kernelbase.py\", line 648, in execute_request\n",
      "    reply_content = await reply_content\n",
      "  File \"/Users/takeshiiijima/opt/anaconda3/lib/python3.9/site-packages/ipykernel/ipkernel.py\", line 353, in do_execute\n",
      "    res = shell.run_cell(code, store_history=store_history, silent=silent)\n",
      "  File \"/Users/takeshiiijima/opt/anaconda3/lib/python3.9/site-packages/ipykernel/zmqshell.py\", line 533, in run_cell\n",
      "    return super(ZMQInteractiveShell, self).run_cell(*args, **kwargs)\n",
      "  File \"/Users/takeshiiijima/opt/anaconda3/lib/python3.9/site-packages/IPython/core/interactiveshell.py\", line 2901, in run_cell\n",
      "    result = self._run_cell(\n",
      "  File \"/Users/takeshiiijima/opt/anaconda3/lib/python3.9/site-packages/IPython/core/interactiveshell.py\", line 2947, in _run_cell\n",
      "    return runner(coro)\n",
      "  File \"/Users/takeshiiijima/opt/anaconda3/lib/python3.9/site-packages/IPython/core/async_helpers.py\", line 68, in _pseudo_sync_runner\n",
      "    coro.send(None)\n",
      "  File \"/Users/takeshiiijima/opt/anaconda3/lib/python3.9/site-packages/IPython/core/interactiveshell.py\", line 3172, in run_cell_async\n",
      "    has_raised = await self.run_ast_nodes(code_ast.body, cell_name,\n",
      "  File \"/Users/takeshiiijima/opt/anaconda3/lib/python3.9/site-packages/IPython/core/interactiveshell.py\", line 3364, in run_ast_nodes\n",
      "    if (await self.run_code(code, result,  async_=asy)):\n",
      "  File \"/Users/takeshiiijima/opt/anaconda3/lib/python3.9/site-packages/IPython/core/interactiveshell.py\", line 3444, in run_code\n",
      "    exec(code_obj, self.user_global_ns, self.user_ns)\n",
      "  File \"/var/folders/27/6hk2mfzs5vv9ysvns0ydhx2m0000gn/T/ipykernel_21316/2968107485.py\", line 18, in <module>\n",
      "    logger.info('A log message')\n",
      "Message: 'A log message'\n",
      "Arguments: ()\n"
     ]
    }
   ],
   "source": [
    "import copy\n",
    "import logging\n",
    "\n",
    "\n",
    "def filter(record: logging.LogRecord):\n",
    "    record = copy.copy(record)\n",
    "    record.user = \"jim\"\n",
    "    return record\n",
    "\n",
    "\n",
    "logger = logging.getLogger()\n",
    "logger.setLevel(logging.INFO)\n",
    "handler = logging.StreamHandler()\n",
    "formatter = logging.Formatter(\"%(message)s from %(user)-8s\")\n",
    "handler.setFormatter(formatter)\n",
    "handler.addFilter(filter)\n",
    "logger.addHandler(handler)\n",
    "\n",
    "logger.info(\"A log message\")\n"
   ]
  },
  {
   "cell_type": "code",
   "execution_count": 2,
   "metadata": {},
   "outputs": [
    {
     "name": "stderr",
     "output_type": "stream",
     "text": [
      "2024-11-17 08:44:33,319 - my_logger - INFO - {'user': 'name', 'trace_id': '12345'} - This is a log message.\n",
      "2024-11-17 08:44:33,321 - my_logger - INFO - {'user': 'name', 'trace_id': '12345'} - Another message.\n"
     ]
    }
   ],
   "source": [
    "import logging\n",
    "\n",
    "\n",
    "# コンテキストを持たせるためのクラス\n",
    "class ContextLogger(logging.LoggerAdapter):\n",
    "    def process(self, msg, kwargs):\n",
    "        # メッセージにコンテキスト情報を追加\n",
    "        return f\"{self.extra} - {msg}\", kwargs\n",
    "\n",
    "\n",
    "# ロガーのセットアップ\n",
    "logging.basicConfig(\n",
    "    level=logging.INFO, format=\"%(asctime)s - %(name)s - %(levelname)s - %(message)s\"\n",
    ")\n",
    "base_logger = logging.getLogger(\"my_logger\")\n",
    "\n",
    "# コンテキスト付きロガーを作成\n",
    "context = {\"user\": \"name\", \"trace_id\": \"12345\"}\n",
    "logger = ContextLogger(base_logger, context)\n",
    "\n",
    "# ログ出力\n",
    "logger.info(\"This is a log message.\")\n",
    "logger.info(\"Another message.\")\n"
   ]
  },
  {
   "cell_type": "code",
   "execution_count": 9,
   "metadata": {},
   "outputs": [
    {
     "name": "stderr",
     "output_type": "stream",
     "text": [
      "2024-11-17 08:43:55,208 - my_logger - INFO - Initial message.\n",
      "2024-11-17 08:43:55,210 - my_logger - INFO - Session started.\n",
      "2024-11-17 08:43:55,211 - my_logger - INFO - Transaction processed.\n"
     ]
    }
   ],
   "source": [
    "import logging\n",
    "\n",
    "\n",
    "class DynamicContextFilter(logging.Filter):\n",
    "    def __init__(self):\n",
    "        super().__init__()\n",
    "        self.context = {}\n",
    "\n",
    "    def add_context(self, **new_context):\n",
    "        # コンテキストを更新\n",
    "        self.context.update(new_context)\n",
    "\n",
    "    def filter(self, record):\n",
    "        # コンテキスト情報を LogRecord に追加\n",
    "        for key, value in self.context.items():\n",
    "            setattr(record, key, value)\n",
    "        return True\n",
    "\n",
    "\n",
    "# ロガーのセットアップ\n",
    "logging.basicConfig(\n",
    "    level=logging.INFO,\n",
    "    format=\"%(asctime)s - %(name)s - %(levelname)s - [user: %(user)s] - [session_id: %(session_id)s] - %(message)s\",\n",
    ")\n",
    "logger = logging.getLogger(\"my_logger\")\n",
    "\n",
    "# フィルターを作成してロガーに追加\n",
    "context_filter = DynamicContextFilter()\n",
    "logger.addFilter(context_filter)\n",
    "\n",
    "# 初期ログ出力\n",
    "context_filter.add_context(user=\"Takeshi\")\n",
    "logger.info(\"Initial message.\")\n",
    "\n",
    "# コンテキストを追加してログ出力\n",
    "context_filter.add_context(session_id=\"12345\")\n",
    "logger.info(\"Session started.\")\n",
    "\n",
    "# さらにコンテキストを追加\n",
    "context_filter.add_context(transaction_id=\"67890\")\n",
    "logger.info(\"Transaction processed.\")\n"
   ]
  }
 ],
 "metadata": {
  "kernelspec": {
   "display_name": "Python 3",
   "language": "python",
   "name": "python3"
  },
  "language_info": {
   "codemirror_mode": {
    "name": "ipython",
    "version": 3
   },
   "file_extension": ".py",
   "mimetype": "text/x-python",
   "name": "python",
   "nbconvert_exporter": "python",
   "pygments_lexer": "ipython3",
   "version": "3.9.7"
  }
 },
 "nbformat": 4,
 "nbformat_minor": 2
}
