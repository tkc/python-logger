{
 "cells": [
  {
   "cell_type": "code",
   "execution_count": 1,
   "metadata": {},
   "outputs": [],
   "source": [
    "import sys\n",
    "import logging\n",
    "\n",
    "logger = logging.getLogger(\"example\")\n",
    "logger.setLevel(logging.DEBUG)\n",
    "\n",
    "# Create handlers for logging to the standard output and a file\n",
    "stdoutHandler = logging.StreamHandler(stream=sys.stdout)\n",
    "errHandler = logging.FileHandler(\"error.log\")\n",
    "\n",
    "# Set the log levels on the handlers\n",
    "stdoutHandler.setLevel(logging.DEBUG)\n",
    "errHandler.setLevel(logging.ERROR)\n",
    "\n",
    "# Create a log format using Log Record attributes\n",
    "fmt = logging.Formatter(\n",
    "    \"%(name)s: %(asctime)s | %(levelname)s | %(filename)s:%(lineno)s | %(process)d | %(message)s\"\n",
    ")\n",
    "\n",
    "# Set the log format on each handler\n",
    "stdoutHandler.setFormatter(fmt)\n",
    "errHandler.setFormatter(fmt)\n",
    "\n",
    "# Add each handler to the Logger object\n",
    "logger.addHandler(stdoutHandler)\n",
    "logger.addHandler(errHandler)\n"
   ]
  },
  {
   "cell_type": "code",
   "execution_count": 2,
   "metadata": {},
   "outputs": [
    {
     "name": "stdout",
     "output_type": "stream",
     "text": [
      "example: 2024-11-17 08:36:27,543 | INFO | 1516091136.py:1 | 21002 | Server started listening on port 8080\n"
     ]
    }
   ],
   "source": [
    "logger.info(\"Server started listening on port 8080\")\n"
   ]
  },
  {
   "cell_type": "code",
   "execution_count": 3,
   "metadata": {},
   "outputs": [
    {
     "name": "stdout",
     "output_type": "stream",
     "text": [
      "example: 2024-11-17 08:36:29,308 | WARNING | 1164350797.py:1 | 21002 | Disk space on drive '/var/log' is running low. Consider freeing up space\n"
     ]
    }
   ],
   "source": [
    "logger.warning(\n",
    "    \"Disk space on drive '/var/log' is running low. Consider freeing up space\"\n",
    ")\n"
   ]
  },
  {
   "cell_type": "code",
   "execution_count": 4,
   "metadata": {},
   "outputs": [
    {
     "name": "stdout",
     "output_type": "stream",
     "text": [
      "example: 2024-11-17 08:36:30,956 | ERROR | 3211868388.py:4 | 21002 | Division by zero error occurred during calculation. Check the input values\n",
      "Traceback (most recent call last):\n",
      "  File \"/var/folders/27/6hk2mfzs5vv9ysvns0ydhx2m0000gn/T/ipykernel_21002/3211868388.py\", line 2, in <module>\n",
      "    1 / 0\n",
      "ZeroDivisionError: division by zero\n"
     ]
    }
   ],
   "source": [
    "try:\n",
    "    1 / 0\n",
    "except ZeroDivisionError as e:\n",
    "    logger.exception(\n",
    "        \"Division by zero error occurred during calculation. Check the input values\",\n",
    "        exc_info=e,\n",
    "    )\n"
   ]
  },
  {
   "cell_type": "code",
   "execution_count": 5,
   "metadata": {},
   "outputs": [
    {
     "name": "stdout",
     "output_type": "stream",
     "text": [
      "example: 2024-11-17 08:36:33,297 | ERROR | 4218186071.py:4 | 21002 | division by zero\n",
      "Traceback (most recent call last):\n",
      "  File \"/var/folders/27/6hk2mfzs5vv9ysvns0ydhx2m0000gn/T/ipykernel_21002/4218186071.py\", line 2, in <module>\n",
      "    1 / 0\n",
      "ZeroDivisionError: division by zero\n"
     ]
    }
   ],
   "source": [
    "try:\n",
    "    1 / 0\n",
    "except ZeroDivisionError as e:\n",
    "    logger.exception(e)\n"
   ]
  },
  {
   "cell_type": "markdown",
   "metadata": {},
   "source": [
    "## Logging HOWTO\n",
    "\n",
    "https://docs.python.org/ja/3/howto/logging.html#using-arbitrary-objects-as-messages\n"
   ]
  },
  {
   "cell_type": "code",
   "execution_count": 6,
   "metadata": {},
   "outputs": [
    {
     "name": "stderr",
     "output_type": "stream",
     "text": [
      "WARNING:root:Watch out!\n"
     ]
    }
   ],
   "source": [
    "import logging\n",
    "\n",
    "logging.warning(\"Watch out!\")  # will print a message to the console\n",
    "logging.info(\"I told you so\")  # will not print anything\n"
   ]
  },
  {
   "cell_type": "code",
   "execution_count": 7,
   "metadata": {},
   "outputs": [
    {
     "name": "stderr",
     "output_type": "stream",
     "text": [
      "DEBUG:__main__:This message should go to the log file\n",
      "INFO:__main__:So should this\n",
      "WARNING:__main__:And this, too\n",
      "ERROR:__main__:And non-ASCII stuff, too, like Øresund and Malmö\n"
     ]
    }
   ],
   "source": [
    "import logging\n",
    "\n",
    "logger = logging.getLogger(__name__)\n",
    "logger.setLevel(10)\n",
    "\n",
    "logging.basicConfig(filename=\"example.log\", encoding=\"utf-8\", level=logging.DEBUG)\n",
    "\n",
    "logger.debug(\"This message should go to the log file\")\n",
    "logger.info(\"So should this\")\n",
    "\n",
    "logger.warning(\"And this, too\")\n",
    "logger.error(\"And non-ASCII stuff, too, like Øresund and Malmö\")\n"
   ]
  },
  {
   "cell_type": "code",
   "execution_count": 8,
   "metadata": {},
   "outputs": [
    {
     "name": "stderr",
     "output_type": "stream",
     "text": [
      "WARNING:root:Look before you leap!\n"
     ]
    }
   ],
   "source": [
    "import logging\n",
    "\n",
    "logging.warning(\"%s before you %s\", \"Look\", \"leap!\")\n"
   ]
  },
  {
   "cell_type": "code",
   "execution_count": 9,
   "metadata": {},
   "outputs": [
    {
     "name": "stderr",
     "output_type": "stream",
     "text": [
      "WARNING:root:And this, too\n"
     ]
    }
   ],
   "source": [
    "import logging\n",
    "\n",
    "logging.basicConfig(format=\"%(levelname)s:%(message)s\", level=logging.DEBUG)\n",
    "logging.debug(\"This message should appear on the console\")\n",
    "logging.info(\"So should this\")\n",
    "logging.warning(\"And this, too\")\n"
   ]
  },
  {
   "cell_type": "code",
   "execution_count": 10,
   "metadata": {},
   "outputs": [
    {
     "name": "stderr",
     "output_type": "stream",
     "text": [
      "WARNING:root:is when this event was logged.\n"
     ]
    }
   ],
   "source": [
    "import logging\n",
    "\n",
    "logging.basicConfig(format=\"%(asctime)s %(message)s\")\n",
    "logging.warning(\"is when this event was logged.\")\n"
   ]
  },
  {
   "cell_type": "code",
   "execution_count": 11,
   "metadata": {},
   "outputs": [
    {
     "name": "stderr",
     "output_type": "stream",
     "text": [
      "INFO:root:A log message\n"
     ]
    }
   ],
   "source": [
    "import copy\n",
    "import logging\n",
    "\n",
    "\n",
    "def filter(record: logging.LogRecord):\n",
    "    record = copy.copy(record)\n",
    "    record.user = \"jim\"\n",
    "    return record\n",
    "\n",
    "\n",
    "logger = logging.getLogger()\n",
    "logger.setLevel(logging.INFO)\n",
    "# # handler = logging.StreamHandl/er()\n",
    "# formatter = logging.Formatter('%(message)s from %(user)-8s')\n",
    "# handler.setFormatter(formatter)\n",
    "# handler.addFilter(filter)\n",
    "# logger.addHandler(handler)\n",
    "\n",
    "logger.info(\"A log message\")\n"
   ]
  }
 ],
 "metadata": {
  "kernelspec": {
   "display_name": "Python 3",
   "language": "python",
   "name": "python3"
  },
  "language_info": {
   "codemirror_mode": {
    "name": "ipython",
    "version": 3
   },
   "file_extension": ".py",
   "mimetype": "text/x-python",
   "name": "python",
   "nbconvert_exporter": "python",
   "pygments_lexer": "ipython3",
   "version": "3.9.7"
  }
 },
 "nbformat": 4,
 "nbformat_minor": 2
}
