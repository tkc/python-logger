{
 "cells": [
  {
   "cell_type": "code",
   "execution_count": 1,
   "metadata": {},
   "outputs": [
    {
     "name": "stdout",
     "output_type": "stream",
     "text": [
      "Requirement already satisfied: flask in /Users/takeshiiijima/opt/anaconda3/lib/python3.9/site-packages (1.1.2)\n",
      "Requirement already satisfied: Werkzeug>=0.15 in /Users/takeshiiijima/opt/anaconda3/lib/python3.9/site-packages (from flask) (2.0.2)\n",
      "Requirement already satisfied: Jinja2>=2.10.1 in /Users/takeshiiijima/opt/anaconda3/lib/python3.9/site-packages (from flask) (2.11.3)\n",
      "Requirement already satisfied: itsdangerous>=0.24 in /Users/takeshiiijima/opt/anaconda3/lib/python3.9/site-packages (from flask) (2.0.1)\n",
      "Requirement already satisfied: click>=5.1 in /Users/takeshiiijima/opt/anaconda3/lib/python3.9/site-packages (from flask) (8.0.3)\n",
      "Requirement already satisfied: MarkupSafe>=0.23 in /Users/takeshiiijima/opt/anaconda3/lib/python3.9/site-packages (from Jinja2>=2.10.1->flask) (1.1.1)\n",
      "\n",
      "\u001b[1m[\u001b[0m\u001b[34;49mnotice\u001b[0m\u001b[1;39;49m]\u001b[0m\u001b[39;49m A new release of pip is available: \u001b[0m\u001b[31;49m23.1.2\u001b[0m\u001b[39;49m -> \u001b[0m\u001b[32;49m24.3.1\u001b[0m\n",
      "\u001b[1m[\u001b[0m\u001b[34;49mnotice\u001b[0m\u001b[1;39;49m]\u001b[0m\u001b[39;49m To update, run: \u001b[0m\u001b[32;49mpip install --upgrade pip\u001b[0m\n",
      "Note: you may need to restart the kernel to use updated packages.\n",
      "Requirement already satisfied: structlog in /Users/takeshiiijima/opt/anaconda3/lib/python3.9/site-packages (24.4.0)\n",
      "\n",
      "\u001b[1m[\u001b[0m\u001b[34;49mnotice\u001b[0m\u001b[1;39;49m]\u001b[0m\u001b[39;49m A new release of pip is available: \u001b[0m\u001b[31;49m23.1.2\u001b[0m\u001b[39;49m -> \u001b[0m\u001b[32;49m24.3.1\u001b[0m\n",
      "\u001b[1m[\u001b[0m\u001b[34;49mnotice\u001b[0m\u001b[1;39;49m]\u001b[0m\u001b[39;49m To update, run: \u001b[0m\u001b[32;49mpip install --upgrade pip\u001b[0m\n",
      "Note: you may need to restart the kernel to use updated packages.\n"
     ]
    }
   ],
   "source": [
    "%pip install flask\n",
    "%pip install structlog\n"
   ]
  },
  {
   "cell_type": "code",
   "execution_count": 1,
   "metadata": {},
   "outputs": [
    {
     "name": "stdout",
     "output_type": "stream",
     "text": [
      " * Serving Flask app \"__main__\" (lazy loading)\n",
      " * Environment: production\n",
      "\u001b[31m   WARNING: This is a development server. Do not use it in a production deployment.\u001b[0m\n",
      "\u001b[2m   Use a production WSGI server instead.\u001b[0m\n",
      " * Debug mode: off\n"
     ]
    },
    {
     "name": "stderr",
     "output_type": "stream",
     "text": [
      " * Running on http://127.0.0.1:5000/ (Press CTRL+C to quit)\n",
      "2024-11-17 09:19:07,185 - INFO - [user: anonymous] [request_id: default-id] - Processing request\n",
      "127.0.0.1 - - [17/Nov/2024 09:19:07] \"GET / HTTP/1.1\" 200 -\n",
      "2024-11-17 09:19:07,300 - INFO - [user: anonymous] [request_id: default-id] - Processing request\n",
      "127.0.0.1 - - [17/Nov/2024 09:19:07] \"GET / HTTP/1.1\" 200 -\n",
      "2024-11-17 09:19:07,410 - INFO - [user: anonymous] [request_id: default-id] - Processing request\n",
      "127.0.0.1 - - [17/Nov/2024 09:19:07] \"GET / HTTP/1.1\" 200 -\n"
     ]
    }
   ],
   "source": [
    "import logging\n",
    "import uuid\n",
    "import time\n",
    "from flask import Flask, g, request\n",
    "\n",
    "app = Flask(__name__)\n",
    "\n",
    "# 基本ロガーの設定\n",
    "formatter = logging.Formatter(\n",
    "    \"%(asctime)s - %(levelname)s - [user: %(user)s] [request_id: %(request_id)s] - %(message)s\"\n",
    ")\n",
    "handler = logging.StreamHandler()\n",
    "handler.setFormatter(formatter)\n",
    "\n",
    "base_logger = logging.getLogger(\"server_logger\")\n",
    "base_logger.setLevel(logging.INFO)\n",
    "base_logger.addHandler(handler)\n",
    "\n",
    "\n",
    "# LoggerAdapter の定義\n",
    "class ContextLogger(logging.LoggerAdapter):\n",
    "    def process(self, msg, kwargs):\n",
    "        # `g` からユーザー情報を取得し、extra に追加\n",
    "        extra = kwargs.get(\"extra\", {})\n",
    "        extra[\"user\"] = getattr(g, \"user\", \"unknown\")\n",
    "        extra[\"request_id\"] = getattr(g, \"trace_id\", \"N/A\")\n",
    "        kwargs[\"extra\"] = extra\n",
    "        return msg, kwargs\n",
    "\n",
    "\n",
    "logger = ContextLogger(base_logger, {})\n",
    "\n",
    "\n",
    "@app.before_request\n",
    "def before_request():\n",
    "    # リクエストごとのコンテキスト情報を設定\n",
    "    g.user = request.headers.get(\"X-User\", \"anonymous\")\n",
    "    g.trace_id = uuid.uuid4().hex\n",
    "\n",
    "\n",
    "@app.route(\"/\")\n",
    "def index():\n",
    "    logger.info(\"Starting processing request\")\n",
    "    time.sleep(1)  # 1秒待機\n",
    "    logger.info(\"Finished processing request\")\n",
    "    return \"Hello, Flask!\"\n",
    "\n",
    "\n",
    "if __name__ == \"__main__\":\n",
    "    app.run()\n"
   ]
  },
  {
   "cell_type": "code",
   "execution_count": 11,
   "metadata": {},
   "outputs": [
    {
     "name": "stdout",
     "output_type": "stream",
     "text": [
      " * Serving Flask app \"__main__\" (lazy loading)\n",
      " * Environment: production\n",
      "\u001b[31m   WARNING: This is a development server. Do not use it in a production deployment.\u001b[0m\n",
      "\u001b[2m   Use a production WSGI server instead.\u001b[0m\n",
      " * Debug mode: off\n"
     ]
    },
    {
     "name": "stderr",
     "output_type": "stream",
     "text": [
      " * Running on http://127.0.0.1:5000/ (Press CTRL+C to quit)\n",
      "{\"event\": \"Starting processing request\", \"user\": \"anonymous\", \"trace_id\": \"1f6c52dc3fee43de9da314cf84a35d25\", \"filename\": \"4091127567.py\", \"lineno\": 43, \"timestamp\": \"2024-11-17T02:31:46.183251Z\"}\n",
      "{\"event\": \"Finished processing request\", \"user\": \"anonymous\", \"trace_id\": \"1f6c52dc3fee43de9da314cf84a35d25\", \"filename\": \"4091127567.py\", \"lineno\": 45, \"timestamp\": \"2024-11-17T02:31:47.190477Z\"}\n",
      "{\"event\": \"\\u4f8b\\u5916\\u304c\\u767a\\u751f\\u3057\\u307e\\u3057\\u305f\", \"user\": \"anonymous\", \"trace_id\": \"1f6c52dc3fee43de9da314cf84a35d25\", \"filename\": \"4091127567.py\", \"lineno\": 52, \"exception\": \"Traceback (most recent call last):\\n  File \\\"/var/folders/27/6hk2mfzs5vv9ysvns0ydhx2m0000gn/T/ipykernel_36596/4091127567.py\\\", line 49, in index\\n    1 / 0\\nZeroDivisionError: division by zero\", \"timestamp\": \"2024-11-17T02:31:47.192677Z\"}\n",
      "127.0.0.1 - - [17/Nov/2024 11:31:47] \"GET / HTTP/1.1\" 200 -\n"
     ]
    }
   ],
   "source": [
    "import logging\n",
    "import uuid\n",
    "import time\n",
    "from flask import Flask, request\n",
    "import structlog\n",
    "\n",
    "app = Flask(__name__)\n",
    "\n",
    "# 標準のロギング設定\n",
    "logging.basicConfig(format=\"%(message)s\", level=logging.INFO)\n",
    "\n",
    "# structlog の設定\n",
    "structlog.configure(\n",
    "    processors=[\n",
    "        structlog.contextvars.merge_contextvars,  # contextvars の値をログにマージ\n",
    "        structlog.processors.CallsiteParameterAdder(\n",
    "            parameters=[\n",
    "                structlog.processors.CallsiteParameter.FILENAME,  # Adds the filename\n",
    "                structlog.processors.CallsiteParameter.LINENO,  # Adds the line number\n",
    "            ]\n",
    "        ),\n",
    "        structlog.processors.format_exc_info,\n",
    "        structlog.processors.TimeStamper(fmt=\"iso\"),\n",
    "        structlog.processors.JSONRenderer(),\n",
    "    ],\n",
    "    logger_factory=structlog.stdlib.LoggerFactory(),\n",
    "    wrapper_class=structlog.make_filtering_bound_logger(logging.INFO),\n",
    ")\n",
    "\n",
    "logger = structlog.get_logger(\"server_logger\")\n",
    "\n",
    "\n",
    "@app.before_request\n",
    "def before_request():\n",
    "    user = request.headers.get(\"X-User\", \"anonymous\")\n",
    "    trace_id = uuid.uuid4().hex\n",
    "    # contextvars にコンテキスト情報をバインド\n",
    "    structlog.contextvars.bind_contextvars(user=user, trace_id=trace_id)\n",
    "\n",
    "\n",
    "@app.route(\"/\")\n",
    "def index():\n",
    "    logger.info(\"Starting processing request\")\n",
    "    time.sleep(1)  # 1秒待機\n",
    "    logger.info(\"Finished processing request\")\n",
    "\n",
    "    try:\n",
    "        # 例外を発生させるコード\n",
    "        1 / 0\n",
    "    except Exception:\n",
    "        # 例外情報を含めてログを出力\n",
    "        logger.exception(\"例外が発生しました\")\n",
    "\n",
    "    return \"Hello, Flask!\"\n",
    "\n",
    "\n",
    "if __name__ == \"__main__\":\n",
    "    app.run()\n"
   ]
  }
 ],
 "metadata": {
  "kernelspec": {
   "display_name": "Python 3",
   "language": "python",
   "name": "python3"
  },
  "language_info": {
   "codemirror_mode": {
    "name": "ipython",
    "version": 3
   },
   "file_extension": ".py",
   "mimetype": "text/x-python",
   "name": "python",
   "nbconvert_exporter": "python",
   "pygments_lexer": "ipython3",
   "version": "3.9.7"
  }
 },
 "nbformat": 4,
 "nbformat_minor": 2
}
